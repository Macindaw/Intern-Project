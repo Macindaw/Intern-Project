{
  "nbformat": 4,
  "nbformat_minor": 0,
  "metadata": {
    "colab": {
      "name": "Untitled0.ipynb",
      "provenance": [],
      "authorship_tag": "ABX9TyN1S9BwLtK3/CppdxiXOK6/",
      "include_colab_link": true
    },
    "kernelspec": {
      "name": "python3",
      "display_name": "Python 3"
    },
    "language_info": {
      "name": "python"
    }
  },
  "cells": [
    {
      "cell_type": "markdown",
      "metadata": {
        "id": "view-in-github",
        "colab_type": "text"
      },
      "source": [
        "<a href=\"https://colab.research.google.com/github/Macindaw/Intern-Project/blob/main/DylanPyTest.ipynb\" target=\"_parent\"><img src=\"https://colab.research.google.com/assets/colab-badge.svg\" alt=\"Open In Colab\"/></a>"
      ]
    },
    {
      "cell_type": "markdown",
      "metadata": {
        "id": "I9V-BkcoTPNU"
      },
      "source": [
        "# Test Notebook"
      ]
    },
    {
      "cell_type": "code",
      "metadata": {
        "id": "2B9Vx-aGTNoX"
      },
      "source": [
        "def fibonacci(n):\n",
        "  output = [1,1]\n",
        "  if n == 1:\n",
        "    return [1]\n",
        "  elif n < 1:\n",
        "    return\n",
        "  while len(output) < n:\n",
        "    output.append(output[-1] + output[-2])\n",
        "  return output"
      ],
      "execution_count": 25,
      "outputs": []
    },
    {
      "cell_type": "code",
      "metadata": {
        "id": "TAkife4mUjTD",
        "colab": {
          "base_uri": "https://localhost:8080/"
        },
        "outputId": "bc6ab94a-3ad9-4175-a542-dd2f90841b5c"
      },
      "source": [
        "fibonacci(18)"
      ],
      "execution_count": 26,
      "outputs": [
        {
          "output_type": "execute_result",
          "data": {
            "text/plain": [
              "[1, 1, 2, 3, 5, 8, 13, 21, 34, 55, 89, 144, 233, 377, 610, 987, 1597, 2584]"
            ]
          },
          "metadata": {},
          "execution_count": 26
        }
      ]
    },
    {
      "cell_type": "code",
      "metadata": {
        "colab": {
          "base_uri": "https://localhost:8080/"
        },
        "id": "sW787Cqdvzhx",
        "outputId": "2854f2a7-e085-4f11-fdcf-7290c8103df2"
      },
      "source": [
        "import random\n",
        "\n",
        "random.randint(1,50)\n",
        "# Commenting time"
      ],
      "execution_count": 30,
      "outputs": [
        {
          "output_type": "execute_result",
          "data": {
            "text/plain": [
              "22"
            ]
          },
          "metadata": {},
          "execution_count": 30
        }
      ]
    }
  ]
}